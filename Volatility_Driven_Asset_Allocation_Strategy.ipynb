{
  "cells": [
    {
      "cell_type": "markdown",
      "metadata": {
        "id": "view-in-github",
        "colab_type": "text"
      },
      "source": [
        "<a href=\"https://colab.research.google.com/github/ParthaSarathiChakraborty/equity_research/blob/main/Volatility_Driven_Asset_Allocation_Strategy.ipynb\" target=\"_parent\"><img src=\"https://colab.research.google.com/assets/colab-badge.svg\" alt=\"Open In Colab\"/></a>"
      ]
    },
    {
      "cell_type": "markdown",
      "metadata": {
        "id": "hafshgdQonRi"
      },
      "source": [
        "# Volatility-Driven Asset Allocation Strategy\n",
        "This notebook implements a tactical asset allocation strategy using the VIX index to switch between equities and bonds based on market volatility."
      ]
    },
    {
      "cell_type": "code",
      "execution_count": null,
      "metadata": {
        "id": "pc2176MEonRj"
      },
      "outputs": [],
      "source": [
        "# Imports\n",
        "import pandas as pd\n",
        "import numpy as np\n",
        "import matplotlib.pyplot as plt\n",
        "import yfinance as yf\n",
        "from datetime import datetime\n",
        "\n",
        "# Install seaborn if not already installed\n",
        "!pip install seaborn\n",
        "\n",
        "# Import seaborn to ensure its styles are registered with matplotlib\n",
        "import seaborn as sns\n",
        "\n",
        "# Now, using the 'seaborn' style should work\n",
        "plt.style.use('seaborn-v0_8') # Use the updated seaborn style name"
      ]
    },
    {
      "cell_type": "markdown",
      "metadata": {
        "id": "r9_HTguLonRk"
      },
      "source": [
        "## 📥 Download Data\n",
        "We download historical data for SPY (equities), AGG (bonds), and VIX (volatility index) from Yahoo Finance."
      ]
    },
    {
      "cell_type": "code",
      "execution_count": null,
      "metadata": {
        "id": "CgzffsvEonRk"
      },
      "outputs": [],
      "source": [
        "start_date = '2018-01-01'\n",
        "end_date = '2024-01-01'\n",
        "\n",
        "spy_data = yf.download('SPY', start=start_date, end=end_date)\n",
        "print(spy_data.columns) # Examine this output to find the correct adjusted close column name!\n",
        "\n",
        "# Use the correct column name as identified from the print output.\n",
        "# **IMPORTANT**: Replace 'Adj Close' below with the actual column name\n",
        "# for adjusted closing price from the print output above if it's different.\n",
        "try:\n",
        "    spy = spy_data['Adj Close']\n",
        "except KeyError:\n",
        "    # Fallback if 'Adj Close' is not found - try 'Close' or 'AdjClose' based on typical yfinance outputs\n",
        "    try:\n",
        "        spy = spy_data['Close']\n",
        "    except KeyError:\n",
        "        try:\n",
        "            spy = spy_data['AdjClose'] # Trying the original name just in case of variations\n",
        "        except KeyError:\n",
        "             print(\"Could not find 'Adj Close', 'Close', or 'AdjClose' columns in SPY data.\")\n",
        "             # You might want to handle this error further, e.g., exit or raise an exception\n",
        "             raise # Re-raise the last exception\n",
        "\n",
        "# Apply similar logic for AGG and VIX if they also might have unexpected column names\n",
        "try:\n",
        "    agg = yf.download('AGG', start=start_date, end=end_date)['Adj Close']\n",
        "except KeyError:\n",
        "    try:\n",
        "        agg = yf.download('AGG', start=start_date, end=end_date)['Close']\n",
        "    except KeyError:\n",
        "         try:\n",
        "            agg = yf.download('AGG', start=start_date, end=end_date)['AdjClose']\n",
        "         except KeyError:\n",
        "             print(\"Could not find 'Adj Close', 'Close', or 'AdjClose' columns in AGG data.\")\n",
        "             raise\n",
        "\n",
        "\n",
        "try:\n",
        "    vix = yf.download('^VIX', start=start_date, end=end_date)['Adj Close']\n",
        "except KeyError:\n",
        "     try:\n",
        "        vix = yf.download('^VIX', start=start_date, end=end_date)['Close']\n",
        "     except KeyError:\n",
        "         try:\n",
        "            vix = yf.download('^VIX', start=start_date, end=end_date)['AdjClose']\n",
        "         except KeyError:\n",
        "             print(\"Could not find 'Adj Close', 'Close', or 'AdjClose' columns in VIX data.\")\n",
        "             raise"
      ]
    },
    {
      "cell_type": "markdown",
      "metadata": {
        "id": "z0JEgWwyonRl"
      },
      "source": [
        "## 🔧 Prepare Data\n",
        "Merge all series and forward-fill missing values."
      ]
    },
    {
      "cell_type": "code",
      "execution_count": null,
      "metadata": {
        "id": "nX2NnIP-onRl"
      },
      "outputs": [],
      "source": [
        "df = pd.concat([spy, agg, vix], axis=1)\n",
        "df.columns = ['SPY', 'AGG', 'VIX']\n",
        "df = df.fillna(method='ffill')\n",
        "\n",
        "# Create signals: 1 if VIX <= 20, else 0 (equity or bond)\n",
        "df['Signal'] = np.where(df['VIX'] <= 20, 1, 0)"
      ]
    },
    {
      "cell_type": "markdown",
      "metadata": {
        "id": "0eSo7DmXonRl"
      },
      "source": [
        "## 🧠 Strategy Logic\n",
        "If VIX <= 20: Invest in SPY, else switch to AGG."
      ]
    },
    {
      "cell_type": "code",
      "execution_count": null,
      "metadata": {
        "id": "FizcdlaoonRl"
      },
      "outputs": [],
      "source": [
        "df['SPY_Returns'] = df['SPY'].pct_change()\n",
        "df['AGG_Returns'] = df['AGG'].pct_change()\n",
        "df['Strategy_Returns'] = df['Signal'].shift(1) * df['SPY_Returns'] + (1 - df['Signal'].shift(1)) * df['AGG_Returns']\n",
        "df.dropna(inplace=True)"
      ]
    },
    {
      "cell_type": "markdown",
      "metadata": {
        "id": "jkNvIC2konRm"
      },
      "source": [
        "## 📈 Cumulative Performance Comparison"
      ]
    },
    {
      "cell_type": "code",
      "execution_count": null,
      "metadata": {
        "id": "DRHK9dHionRm"
      },
      "outputs": [],
      "source": [
        "(1 + df[['SPY_Returns', 'AGG_Returns', 'Strategy_Returns']]).cumprod().plot(figsize=(12, 6))\n",
        "plt.title('Cumulative Returns: SPY vs AGG vs Strategy')\n",
        "plt.ylabel('Growth of $1')\n",
        "plt.grid(True)\n",
        "plt.show()"
      ]
    },
    {
      "cell_type": "markdown",
      "metadata": {
        "id": "HemDkzr7onRm"
      },
      "source": [
        "## 📊 Performance Metrics"
      ]
    },
    {
      "cell_type": "code",
      "execution_count": null,
      "metadata": {
        "id": "dP8HyMcqonRm"
      },
      "outputs": [],
      "source": [
        "performance = pd.DataFrame({\n",
        "    'Annual Return': df[['SPY_Returns', 'AGG_Returns', 'Strategy_Returns']].mean() * 252,\n",
        "    'Volatility': df[['SPY_Returns', 'AGG_Returns', 'Strategy_Returns']].std() * np.sqrt(252),\n",
        "    'Sharpe Ratio': (df[['SPY_Returns', 'AGG_Returns', 'Strategy_Returns']].mean() / df[['SPY_Returns', 'AGG_Returns', 'Strategy_Returns']].std()) * np.sqrt(252)\n",
        "})\n",
        "performance.columns = ['Annual Return', 'Volatility', 'Sharpe Ratio']\n",
        "print(performance.round(3))"
      ]
    }
  ],
  "metadata": {
    "kernelspec": {
      "display_name": "Python 3",
      "language": "python",
      "name": "python3"
    },
    "language_info": {
      "name": "python",
      "version": "3.9"
    },
    "colab": {
      "provenance": [],
      "include_colab_link": true
    }
  },
  "nbformat": 4,
  "nbformat_minor": 0
}